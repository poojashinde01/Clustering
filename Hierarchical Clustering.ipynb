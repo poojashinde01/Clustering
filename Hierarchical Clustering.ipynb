{
 "cells": [
  {
   "cell_type": "code",
   "execution_count": 4,
   "metadata": {},
   "outputs": [],
   "source": [
    "import numpy as np\n",
    "import pandas as pd\n",
    "import matplotlib.pyplot as plt\n",
    "import seaborn as sns\n",
    "%matplotlib inline"
   ]
  },
  {
   "cell_type": "code",
   "execution_count": 5,
   "metadata": {},
   "outputs": [],
   "source": [
    "import warnings\n",
    "warnings.filterwarnings('ignore')"
   ]
  },
  {
   "cell_type": "code",
   "execution_count": 6,
   "metadata": {},
   "outputs": [
    {
     "data": {
      "text/html": [
       "<div>\n",
       "<style scoped>\n",
       "    .dataframe tbody tr th:only-of-type {\n",
       "        vertical-align: middle;\n",
       "    }\n",
       "\n",
       "    .dataframe tbody tr th {\n",
       "        vertical-align: top;\n",
       "    }\n",
       "\n",
       "    .dataframe thead th {\n",
       "        text-align: right;\n",
       "    }\n",
       "</style>\n",
       "<table border=\"1\" class=\"dataframe\">\n",
       "  <thead>\n",
       "    <tr style=\"text-align: right;\">\n",
       "      <th></th>\n",
       "      <th>CustomerID</th>\n",
       "      <th>Gender</th>\n",
       "      <th>Age</th>\n",
       "      <th>Annual Income (k$)</th>\n",
       "      <th>Spending Score (1-100)</th>\n",
       "    </tr>\n",
       "  </thead>\n",
       "  <tbody>\n",
       "    <tr>\n",
       "      <th>0</th>\n",
       "      <td>1</td>\n",
       "      <td>Male</td>\n",
       "      <td>19</td>\n",
       "      <td>15</td>\n",
       "      <td>39</td>\n",
       "    </tr>\n",
       "    <tr>\n",
       "      <th>1</th>\n",
       "      <td>2</td>\n",
       "      <td>Male</td>\n",
       "      <td>21</td>\n",
       "      <td>15</td>\n",
       "      <td>81</td>\n",
       "    </tr>\n",
       "    <tr>\n",
       "      <th>2</th>\n",
       "      <td>3</td>\n",
       "      <td>Female</td>\n",
       "      <td>20</td>\n",
       "      <td>16</td>\n",
       "      <td>6</td>\n",
       "    </tr>\n",
       "    <tr>\n",
       "      <th>3</th>\n",
       "      <td>4</td>\n",
       "      <td>Female</td>\n",
       "      <td>23</td>\n",
       "      <td>16</td>\n",
       "      <td>77</td>\n",
       "    </tr>\n",
       "    <tr>\n",
       "      <th>4</th>\n",
       "      <td>5</td>\n",
       "      <td>Female</td>\n",
       "      <td>31</td>\n",
       "      <td>17</td>\n",
       "      <td>40</td>\n",
       "    </tr>\n",
       "  </tbody>\n",
       "</table>\n",
       "</div>"
      ],
      "text/plain": [
       "   CustomerID  Gender  Age  Annual Income (k$)  Spending Score (1-100)\n",
       "0           1    Male   19                  15                      39\n",
       "1           2    Male   21                  15                      81\n",
       "2           3  Female   20                  16                       6\n",
       "3           4  Female   23                  16                      77\n",
       "4           5  Female   31                  17                      40"
      ]
     },
     "execution_count": 6,
     "metadata": {},
     "output_type": "execute_result"
    }
   ],
   "source": [
    "df = pd.read_csv(\"data/Mall_Customers.csv\")\n",
    "df.head()"
   ]
  },
  {
   "cell_type": "code",
   "execution_count": 7,
   "metadata": {},
   "outputs": [
    {
     "name": "stdout",
     "output_type": "stream",
     "text": [
      "Size of the data :  (200, 5)\n"
     ]
    }
   ],
   "source": [
    "print(\"Size of the data : \", df.shape)"
   ]
  },
  {
   "cell_type": "markdown",
   "metadata": {},
   "source": [
    "### Segmentation using Age and Spending Score"
   ]
  },
  {
   "cell_type": "code",
   "execution_count": 8,
   "metadata": {},
   "outputs": [
    {
     "data": {
      "text/html": [
       "<div>\n",
       "<style scoped>\n",
       "    .dataframe tbody tr th:only-of-type {\n",
       "        vertical-align: middle;\n",
       "    }\n",
       "\n",
       "    .dataframe tbody tr th {\n",
       "        vertical-align: top;\n",
       "    }\n",
       "\n",
       "    .dataframe thead th {\n",
       "        text-align: right;\n",
       "    }\n",
       "</style>\n",
       "<table border=\"1\" class=\"dataframe\">\n",
       "  <thead>\n",
       "    <tr style=\"text-align: right;\">\n",
       "      <th></th>\n",
       "      <th>Age</th>\n",
       "      <th>Spending Score (1-100)</th>\n",
       "    </tr>\n",
       "  </thead>\n",
       "  <tbody>\n",
       "    <tr>\n",
       "      <th>0</th>\n",
       "      <td>19</td>\n",
       "      <td>39</td>\n",
       "    </tr>\n",
       "    <tr>\n",
       "      <th>1</th>\n",
       "      <td>21</td>\n",
       "      <td>81</td>\n",
       "    </tr>\n",
       "    <tr>\n",
       "      <th>2</th>\n",
       "      <td>20</td>\n",
       "      <td>6</td>\n",
       "    </tr>\n",
       "    <tr>\n",
       "      <th>3</th>\n",
       "      <td>23</td>\n",
       "      <td>77</td>\n",
       "    </tr>\n",
       "    <tr>\n",
       "      <th>4</th>\n",
       "      <td>31</td>\n",
       "      <td>40</td>\n",
       "    </tr>\n",
       "  </tbody>\n",
       "</table>\n",
       "</div>"
      ],
      "text/plain": [
       "   Age  Spending Score (1-100)\n",
       "0   19                      39\n",
       "1   21                      81\n",
       "2   20                       6\n",
       "3   23                      77\n",
       "4   31                      40"
      ]
     },
     "execution_count": 8,
     "metadata": {},
     "output_type": "execute_result"
    }
   ],
   "source": [
    "X = df[[\"Age\", \"Spending Score (1-100)\"]]\n",
    "X.head()"
   ]
  },
  {
   "cell_type": "code",
   "execution_count": 9,
   "metadata": {},
   "outputs": [],
   "source": [
    "import scipy.cluster.hierarchy as shc"
   ]
  },
  {
   "cell_type": "markdown",
   "metadata": {},
   "source": [
    "#### Using just 5 points initially for better undersatnding"
   ]
  },
  {
   "cell_type": "code",
   "execution_count": 10,
   "metadata": {},
   "outputs": [
    {
     "data": {
      "text/plain": [
       "array([[ 1.        ,  3.        ,  4.47213595,  2.        ],\n",
       "       [ 0.        ,  4.        , 12.04159458,  2.        ],\n",
       "       [ 2.        ,  6.        , 33.01514804,  3.        ],\n",
       "       [ 5.        ,  7.        , 37.85498646,  5.        ]])"
      ]
     },
     "execution_count": 10,
     "metadata": {},
     "output_type": "execute_result"
    }
   ],
   "source": [
    "agglo_clusters_5 = shc.linkage(X.iloc[:5,:])\n",
    "agglo_clusters_5\n",
    "# return a (n-1)x4 matrix where first two columns contain the cluster(point) id(index) to form the next cluster.\n",
    "# 3rd column represents the distance between the merging clusters.\n",
    "# 4th column represents number of original observations in the newly formed cluster."
   ]
  },
  {
   "cell_type": "code",
   "execution_count": 11,
   "metadata": {},
   "outputs": [
    {
     "data": {
      "text/html": [
       "<div>\n",
       "<style scoped>\n",
       "    .dataframe tbody tr th:only-of-type {\n",
       "        vertical-align: middle;\n",
       "    }\n",
       "\n",
       "    .dataframe tbody tr th {\n",
       "        vertical-align: top;\n",
       "    }\n",
       "\n",
       "    .dataframe thead th {\n",
       "        text-align: right;\n",
       "    }\n",
       "</style>\n",
       "<table border=\"1\" class=\"dataframe\">\n",
       "  <thead>\n",
       "    <tr style=\"text-align: right;\">\n",
       "      <th></th>\n",
       "      <th>Cluster_id1</th>\n",
       "      <th>Cluster_id2</th>\n",
       "      <th>distance</th>\n",
       "      <th>points_in_new_cluster</th>\n",
       "    </tr>\n",
       "  </thead>\n",
       "  <tbody>\n",
       "    <tr>\n",
       "      <th>0</th>\n",
       "      <td>1.0</td>\n",
       "      <td>3.0</td>\n",
       "      <td>4.472136</td>\n",
       "      <td>2.0</td>\n",
       "    </tr>\n",
       "    <tr>\n",
       "      <th>1</th>\n",
       "      <td>0.0</td>\n",
       "      <td>4.0</td>\n",
       "      <td>12.041595</td>\n",
       "      <td>2.0</td>\n",
       "    </tr>\n",
       "    <tr>\n",
       "      <th>2</th>\n",
       "      <td>2.0</td>\n",
       "      <td>6.0</td>\n",
       "      <td>33.015148</td>\n",
       "      <td>3.0</td>\n",
       "    </tr>\n",
       "    <tr>\n",
       "      <th>3</th>\n",
       "      <td>5.0</td>\n",
       "      <td>7.0</td>\n",
       "      <td>37.854986</td>\n",
       "      <td>5.0</td>\n",
       "    </tr>\n",
       "  </tbody>\n",
       "</table>\n",
       "</div>"
      ],
      "text/plain": [
       "   Cluster_id1  Cluster_id2   distance  points_in_new_cluster\n",
       "0          1.0          3.0   4.472136                    2.0\n",
       "1          0.0          4.0  12.041595                    2.0\n",
       "2          2.0          6.0  33.015148                    3.0\n",
       "3          5.0          7.0  37.854986                    5.0"
      ]
     },
     "execution_count": 11,
     "metadata": {},
     "output_type": "execute_result"
    }
   ],
   "source": [
    "pd.DataFrame(agglo_clusters_5, columns = [\"Cluster_id1\", \"Cluster_id2\", \"distance\", \"points_in_new_cluster\"])"
   ]
  },
  {
   "cell_type": "code",
   "execution_count": 12,
   "metadata": {},
   "outputs": [
    {
     "data": {
      "image/png": "[encoded data removed]",
      "text/plain": [
       "<Figure size 432x288 with 1 Axes>"
      ]
     },
     "metadata": {
      "needs_background": "light"
     },
     "output_type": "display_data"
    }
   ],
   "source": [
    "plt.title(\"Customer Dendrogram\")\n",
    "dend = shc.dendrogram(agglo_clusters_5)"
   ]
  },
  {
   "cell_type": "markdown",
   "metadata": {},
   "source": [
    "#### Using the complete data"
   ]
  },
  {
   "cell_type": "code",
   "execution_count": 22,
   "metadata": {},
   "outputs": [
    {
     "data": {
      "text/plain": [
       "array([[  1.        ,  35.        ,   0.        ,   2.        ],\n",
       "       [ 12.        , 176.        ,   0.        ,   2.        ],\n",
       "       [ 37.        , 159.        ,   0.        ,   2.        ],\n",
       "       [154.        , 194.        ,   0.        ,   2.        ],\n",
       "       [ 16.        ,  20.        ,   0.        ,   2.        ],\n",
       "       [135.        , 183.        ,   0.        ,   2.        ],\n",
       "       [147.        , 197.        ,   0.        ,   2.        ],\n",
       "       [ 42.        , 146.        ,   0.        ,   2.        ],\n",
       "       [  2.        , 134.        ,   1.        ,   2.        ],\n",
       "       [  3.        ,  13.        ,   1.        ,   2.        ],\n",
       "       [ 49.        ,  94.        ,   1.        ,   2.        ],\n",
       "       [ 11.        ,  19.        ,   1.        ,   2.        ],\n",
       "       [141.        , 163.        ,   1.        ,   2.        ],\n",
       "       [123.        , 193.        ,   1.        ,   2.        ],\n",
       "       [149.        , 179.        ,   1.        ,   2.        ],\n",
       "       [ 38.        , 168.        ,   1.        ,   2.        ],\n",
       "       [ 23.        , 137.        ,   1.        ,   2.        ],\n",
       "       [ 25.        , 161.        ,   1.        ,   2.        ],\n",
       "       [ 51.        ,  88.        ,   1.        ,   2.        ],\n",
       "       [143.        , 181.        ,   1.        ,   2.        ],\n",
       "       [129.        , 131.        ,   1.        ,   2.        ],\n",
       "       [ 36.        , 150.        ,   1.        ,   2.        ],\n",
       "       [ 65.        ,  68.        ,   1.        ,   2.        ],\n",
       "       [ 61.        , 111.        ,   1.        ,   2.        ],\n",
       "       [ 78.        ,  95.        ,   1.        ,   2.        ],\n",
       "       [ 75.        , 103.        ,   1.        ,   2.        ],\n",
       "       [ 58.        ,  97.        ,   1.        ,   2.        ],\n",
       "       [ 55.        ,  71.        ,   1.        ,   2.        ],\n",
       "       [ 79.        ,  98.        ,   1.        ,   2.        ],\n",
       "       [ 54.        ,  89.        ,   1.        ,   2.        ],\n",
       "       [ 59.        , 107.        ,   1.        ,   2.        ],\n",
       "       [ 60.        ,  70.        ,   1.        ,   2.        ],\n",
       "       [148.        , 190.        ,   1.        ,   2.        ],\n",
       "       [  9.        , 202.        ,   1.15470054,   3.        ],\n",
       "       [199.        , 217.        ,   1.29099445,   3.        ],\n",
       "       [153.        , 220.        ,   1.29099445,   3.        ],\n",
       "       [162.        , 208.        ,   1.29099445,   3.        ],\n",
       "       [ 93.        , 184.        ,   1.41421356,   2.        ],\n",
       "       [177.        , 187.        ,   1.41421356,   2.        ],\n",
       "       [125.        , 157.        ,   1.41421356,   2.        ],\n",
       "       [ 99.        , 115.        ,   1.41421356,   2.        ],\n",
       "       [104.        , 119.        ,   1.41421356,   2.        ],\n",
       "       [ 92.        , 101.        ,   1.41421356,   2.        ],\n",
       "       [ 85.        ,  96.        ,   1.41421356,   2.        ],\n",
       "       [ 63.        ,  86.        ,   1.41421356,   2.        ],\n",
       "       [206.        , 216.        ,   1.58113883,   4.        ],\n",
       "       [178.        , 201.        ,   1.63299316,   3.        ],\n",
       "       [182.        , 203.        ,   1.63299316,   3.        ],\n",
       "       [188.        , 221.        ,   1.73205081,   3.        ],\n",
       "       [ 46.        , 241.        ,   1.82574186,   3.        ],\n",
       "       [145.        , 185.        ,   2.        ,   2.        ],\n",
       "       [112.        , 121.        ,   2.        ,   2.        ],\n",
       "       [ 62.        , 110.        ,   2.        ,   2.        ],\n",
       "       [106.        , 109.        ,   2.        ,   2.        ],\n",
       "       [152.        , 166.        ,   2.        ,   2.        ],\n",
       "       [  5.        , 209.        ,   2.081666  ,   3.        ],\n",
       "       [ 27.        , 218.        ,   2.081666  ,   3.        ],\n",
       "       [120.        , 225.        ,   2.081666  ,   3.        ],\n",
       "       [  0.        ,  91.        ,   2.23606798,   2.        ],\n",
       "       [  7.        ,  41.        ,   2.23606798,   2.        ],\n",
       "       [ 24.        , 174.        ,   2.23606798,   2.        ],\n",
       "       [ 31.        ,  39.        ,   2.23606798,   2.        ],\n",
       "       [ 44.        , 164.        ,   2.23606798,   2.        ],\n",
       "       [133.        , 191.        ,   2.23606798,   2.        ],\n",
       "       [ 84.        ,  87.        ,   2.23606798,   2.        ],\n",
       "       [ 43.        , 169.        ,   2.23606798,   2.        ],\n",
       "       [113.        , 114.        ,   2.23606798,   2.        ],\n",
       "       [ 48.        , 142.        ,   2.23606798,   2.        ],\n",
       "       [227.        , 228.        ,   2.23606798,   4.        ],\n",
       "       [100.        , 105.        ,   2.23606798,   2.        ],\n",
       "       [ 72.        ,  74.        ,   2.23606798,   2.        ],\n",
       "       [ 82.        , 108.        ,   2.23606798,   2.        ],\n",
       "       [ 57.        ,  67.        ,   2.23606798,   2.        ],\n",
       "       [  4.        , 210.        ,   2.38047614,   3.        ],\n",
       "       [175.        , 219.        ,   2.38047614,   3.        ],\n",
       "       [ 90.        , 231.        ,   2.38047614,   3.        ],\n",
       "       [ 15.        , 200.        ,   2.5819889 ,   3.        ],\n",
       "       [155.        , 205.        ,   2.5819889 ,   3.        ],\n",
       "       [  6.        , 192.        ,   2.82842712,   2.        ],\n",
       "       [ 22.        , 136.        ,   2.82842712,   2.        ],\n",
       "       [ 50.        ,  56.        ,   2.82842712,   2.        ],\n",
       "       [167.        , 212.        ,   2.88675135,   3.        ],\n",
       "       [173.        , 214.        ,   2.88675135,   3.        ],\n",
       "       [165.        , 235.        ,   2.88675135,   4.        ],\n",
       "       [ 14.        , 170.        ,   3.        ,   2.        ],\n",
       "       [156.        , 158.        ,   3.        ,   2.        ],\n",
       "       [118.        , 229.        ,   3.10912635,   3.        ],\n",
       "       [ 30.        , 140.        ,   3.16227766,   2.        ],\n",
       "       [ 28.        , 180.        ,   3.16227766,   2.        ],\n",
       "       [242.        , 243.        ,   3.16227766,   4.        ],\n",
       "       [ 34.        , 247.        ,   3.51188458,   4.        ],\n",
       "       [151.        , 213.        ,   3.51188458,   3.        ],\n",
       "       [233.        , 245.        ,   3.58900437,   7.        ],\n",
       "       [ 21.        , 171.        ,   3.60555128,   2.        ],\n",
       "       [ 26.        , 126.        ,   3.60555128,   2.        ],\n",
       "       [ 81.        , 122.        ,   3.60555128,   2.        ],\n",
       "       [ 66.        ,  76.        ,   3.60555128,   2.        ],\n",
       "       [ 83.        , 268.        ,   3.60555128,   5.        ],\n",
       "       [ 64.        , 252.        ,   3.65148372,   3.        ],\n",
       "       [ 18.        , 262.        ,   3.6968455 ,   3.        ],\n",
       "       [117.        , 249.        ,   3.76386326,   4.        ],\n",
       "       [240.        , 266.        ,   3.80788655,   4.        ],\n",
       "       [ 47.        , 226.        ,   4.04145188,   3.        ],\n",
       "       [237.        , 251.        ,   4.12310563,   4.        ],\n",
       "       [ 17.        ,  45.        ,   4.12310563,   2.        ],\n",
       "       [223.        , 264.        ,   4.12310563,   4.        ],\n",
       "       [ 53.        ,  73.        ,   4.12310563,   2.        ],\n",
       "       [130.        , 279.        ,   4.163332  ,   3.        ],\n",
       "       [172.        , 278.        ,   4.163332  ,   3.        ],\n",
       "       [253.        , 298.        ,   4.41210456,   5.        ],\n",
       "       [267.        , 273.        ,   4.41965308,   5.        ],\n",
       "       [ 80.        , 270.        ,   4.50924975,   3.        ],\n",
       "       [128.        , 246.        ,   4.56435465,   4.        ],\n",
       "       [256.        , 265.        ,   4.65474668,   5.        ],\n",
       "       [139.        , 263.        ,   4.65474668,   3.        ],\n",
       "       [248.        , 254.        ,   4.89897949,   5.        ],\n",
       "       [102.        , 275.        ,   5.32290647,   4.        ],\n",
       "       [230.        , 286.        ,   5.32290647,   5.        ],\n",
       "       [116.        , 271.        ,   5.32290647,   3.        ],\n",
       "       [258.        , 269.        ,   5.38516481,   4.        ],\n",
       "       [124.        , 132.        ,   5.38516481,   2.        ],\n",
       "       [195.        , 239.        ,   5.47722558,   3.        ],\n",
       "       [255.        , 261.        ,   5.66274374,   5.        ],\n",
       "       [198.        , 232.        ,   5.6862407 ,   3.        ],\n",
       "       [138.        , 236.        ,   5.77350269,   4.        ],\n",
       "       [ 52.        , 257.        ,   5.84522597,   4.        ],\n",
       "       [189.        , 274.        ,   5.94418483,   4.        ],\n",
       "       [292.        , 314.        ,   6.11711105,  10.        ],\n",
       "       [ 77.        , 296.        ,   6.13731755,   3.        ],\n",
       "       [127.        , 291.        ,   6.33771778,   4.        ],\n",
       "       [186.        , 299.        ,   6.35085296,   4.        ],\n",
       "       [ 32.        , 287.        ,   6.37704216,   3.        ],\n",
       "       [ 33.        , 259.        ,   6.45497224,   3.        ],\n",
       "       [196.        , 294.        ,   6.45497224,   3.        ],\n",
       "       [280.        , 289.        ,   6.58280589,   6.        ],\n",
       "       [ 29.        , 277.        ,   6.73300329,   4.        ],\n",
       "       [222.        , 305.        ,   6.75771164,   6.        ],\n",
       "       [ 69.        , 302.        ,   6.75771164,   4.        ],\n",
       "       [250.        , 281.        ,   6.94742158,   5.        ],\n",
       "       [204.        , 288.        ,   7.        ,   4.        ],\n",
       "       [244.        , 306.        ,   7.1063352 ,   4.        ],\n",
       "       [282.        , 329.        ,   7.48490545,   7.        ],\n",
       "       [238.        , 293.        ,   7.90569415,   4.        ],\n",
       "       [224.        , 325.        ,   7.92674797,   6.        ],\n",
       "       [272.        , 309.        ,   8.03029976,   7.        ],\n",
       "       [234.        , 326.        ,   8.51329492,   7.        ],\n",
       "       [207.        , 333.        ,   8.79393731,   5.        ],\n",
       "       [260.        , 312.        ,   8.99073597,   6.        ],\n",
       "       [ 40.        , 160.        ,   9.        ,   2.        ],\n",
       "       [  8.        , 331.        ,   9.12870929,   4.        ],\n",
       "       [211.        , 338.        ,   9.24121204,   7.        ],\n",
       "       [276.        , 322.        ,   9.25652923,   8.        ],\n",
       "       [215.        , 323.        ,   9.46924847,   5.        ],\n",
       "       [284.        , 308.        ,   9.76046447,   5.        ],\n",
       "       [144.        , 324.        ,   9.8386991 ,   5.        ],\n",
       "       [317.        , 334.        ,  10.60588744,  11.        ],\n",
       "       [327.        , 342.        ,  11.10276671,  14.        ],\n",
       "       [295.        , 328.        ,  11.11455502,   5.        ],\n",
       "       [283.        , 321.        ,  11.80193689,   7.        ],\n",
       "       [290.        , 315.        ,  11.96754871,   9.        ],\n",
       "       [337.        , 343.        ,  12.03605694,  10.        ],\n",
       "       [335.        , 345.        ,  12.13345702,  11.        ],\n",
       "       [ 10.        , 347.        ,  13.53654665,   7.        ],\n",
       "       [318.        , 348.        ,  14.20093894,   5.        ],\n",
       "       [297.        , 355.        ,  14.52349194,  16.        ],\n",
       "       [303.        , 339.        ,  14.86606875,   8.        ],\n",
       "       [301.        , 319.        ,  15.20690633,   8.        ],\n",
       "       [285.        , 353.        ,  15.25872116,   7.        ],\n",
       "       [300.        , 340.        ,  15.29705854,   8.        ],\n",
       "       [311.        , 344.        ,  15.65825509,  10.        ],\n",
       "       [304.        , 336.        ,  16.10382977,   8.        ],\n",
       "       [330.        , 346.        ,  18.1261015 ,   9.        ],\n",
       "       [341.        , 350.        ,  19.25023191,  14.        ],\n",
       "       [310.        , 320.        ,  19.45911465,   7.        ],\n",
       "       [307.        , 367.        ,  19.83023185,  10.        ],\n",
       "       [316.        , 369.        ,  19.92629275,  14.        ],\n",
       "       [356.        , 358.        ,  20.42640681,  21.        ],\n",
       "       [349.        , 362.        ,  21.93319254,  11.        ],\n",
       "       [332.        , 361.        ,  22.81537038,  14.        ],\n",
       "       [313.        , 357.        ,  25.93067681,  10.        ],\n",
       "       [365.        , 373.        ,  26.55327081,  15.        ],\n",
       "       [360.        , 370.        ,  28.88521344,  18.        ],\n",
       "       [352.        , 359.        ,  30.31605997,  14.        ],\n",
       "       [363.        , 375.        ,  32.731535  ,  19.        ],\n",
       "       [372.        , 378.        ,  34.23135572,  28.        ],\n",
       "       [351.        , 376.        ,  36.96759443,  29.        ],\n",
       "       [366.        , 381.        ,  37.51720403,  26.        ],\n",
       "       [374.        , 382.        ,  41.04019516,  24.        ],\n",
       "       [364.        , 368.        ,  41.18353231,  24.        ],\n",
       "       [371.        , 380.        ,  54.70537248,  24.        ],\n",
       "       [379.        , 388.        ,  57.57738186,  34.        ],\n",
       "       [354.        , 387.        ,  59.18553042,  29.        ],\n",
       "       [384.        , 385.        ,  85.17172154,  57.        ],\n",
       "       [377.        , 391.        ,  86.82858568,  40.        ],\n",
       "       [383.        , 390.        ,  92.2735541 ,  53.        ],\n",
       "       [386.        , 389.        , 117.31371267,  50.        ],\n",
       "       [394.        , 395.        , 169.70614416, 103.        ],\n",
       "       [393.        , 396.        , 264.65177587, 143.        ],\n",
       "       [392.        , 397.        , 420.4853487 , 200.        ]])"
      ]
     },
     "execution_count": 22,
     "metadata": {},
     "output_type": "execute_result"
    }
   ],
   "source": [
    "agglo_clusters = shc.linkage(X,method = \"ward\")\n",
    "agglo_clusters"
   ]
  },
  {
   "cell_type": "code",
   "execution_count": 23,
   "metadata": {},
   "outputs": [
    {
     "data": {
      "text/plain": [
       "(199, 4)"
      ]
     },
     "execution_count": 23,
     "metadata": {},
     "output_type": "execute_result"
    }
   ],
   "source": [
    "agglo_clusters.shape"
   ]
  },
  {
   "cell_type": "code",
   "execution_count": 24,
   "metadata": {},
   "outputs": [
    {
     "data": {
      "image/png": "[encoded data removed]",
      "text/plain": [
       "<Figure size 720x360 with 1 Axes>"
      ]
     },
     "metadata": {
      "needs_background": "light"
     },
     "output_type": "display_data"
    }
   ],
   "source": [
    "plt.figure(figsize = (10,5))\n",
    "plt.title(\"Customer Dendrogram\")\n",
    "dend = shc.dendrogram(shc.linkage(X, method = \"ward\"))"
   ]
  },
  {
   "cell_type": "markdown",
   "metadata": {},
   "source": [
    "### Implementation using sklearn"
   ]
  },
  {
   "cell_type": "code",
   "execution_count": 16,
   "metadata": {},
   "outputs": [],
   "source": [
    "from sklearn.cluster import AgglomerativeClustering "
   ]
  },
  {
   "cell_type": "code",
   "execution_count": 17,
   "metadata": {},
   "outputs": [
    {
     "data": {
      "text/html": [
       "<style>#sk-container-id-1 {color: black;background-color: white;}#sk-container-id-1 pre{padding: 0;}#sk-container-id-1 div.sk-toggleable {background-color: white;}#sk-container-id-1 label.sk-toggleable__label {cursor: pointer;display: block;width: 100%;margin-bottom: 0;padding: 0.3em;box-sizing: border-box;text-align: center;}#sk-container-id-1 label.sk-toggleable__label-arrow:before {content: \"▸\";float: left;margin-right: 0.25em;color: #696969;}#sk-container-id-1 label.sk-toggleable__label-arrow:hover:before {color: black;}#sk-container-id-1 div.sk-estimator:hover label.sk-toggleable__label-arrow:before {color: black;}#sk-container-id-1 div.sk-toggleable__content {max-height: 0;max-width: 0;overflow: hidden;text-align: left;background-color: #f0f8ff;}#sk-container-id-1 div.sk-toggleable__content pre {margin: 0.2em;color: black;border-radius: 0.25em;background-color: #f0f8ff;}#sk-container-id-1 input.sk-toggleable__control:checked~div.sk-toggleable__content {max-height: 200px;max-width: 100%;overflow: auto;}#sk-container-id-1 input.sk-toggleable__control:checked~label.sk-toggleable__label-arrow:before {content: \"▾\";}#sk-container-id-1 div.sk-estimator input.sk-toggleable__control:checked~label.sk-toggleable__label {background-color: #d4ebff;}#sk-container-id-1 div.sk-label input.sk-toggleable__control:checked~label.sk-toggleable__label {background-color: #d4ebff;}#sk-container-id-1 input.sk-hidden--visually {border: 0;clip: rect(1px 1px 1px 1px);clip: rect(1px, 1px, 1px, 1px);height: 1px;margin: -1px;overflow: hidden;padding: 0;position: absolute;width: 1px;}#sk-container-id-1 div.sk-estimator {font-family: monospace;background-color: #f0f8ff;border: 1px dotted black;border-radius: 0.25em;box-sizing: border-box;margin-bottom: 0.5em;}#sk-container-id-1 div.sk-estimator:hover {background-color: #d4ebff;}#sk-container-id-1 div.sk-parallel-item::after {content: \"\";width: 100%;border-bottom: 1px solid gray;flex-grow: 1;}#sk-container-id-1 div.sk-label:hover label.sk-toggleable__label {background-color: #d4ebff;}#sk-container-id-1 div.sk-serial::before {content: \"\";position: absolute;border-left: 1px solid gray;box-sizing: border-box;top: 0;bottom: 0;left: 50%;z-index: 0;}#sk-container-id-1 div.sk-serial {display: flex;flex-direction: column;align-items: center;background-color: white;padding-right: 0.2em;padding-left: 0.2em;position: relative;}#sk-container-id-1 div.sk-item {position: relative;z-index: 1;}#sk-container-id-1 div.sk-parallel {display: flex;align-items: stretch;justify-content: center;background-color: white;position: relative;}#sk-container-id-1 div.sk-item::before, #sk-container-id-1 div.sk-parallel-item::before {content: \"\";position: absolute;border-left: 1px solid gray;box-sizing: border-box;top: 0;bottom: 0;left: 50%;z-index: -1;}#sk-container-id-1 div.sk-parallel-item {display: flex;flex-direction: column;z-index: 1;position: relative;background-color: white;}#sk-container-id-1 div.sk-parallel-item:first-child::after {align-self: flex-end;width: 50%;}#sk-container-id-1 div.sk-parallel-item:last-child::after {align-self: flex-start;width: 50%;}#sk-container-id-1 div.sk-parallel-item:only-child::after {width: 0;}#sk-container-id-1 div.sk-dashed-wrapped {border: 1px dashed gray;margin: 0 0.4em 0.5em 0.4em;box-sizing: border-box;padding-bottom: 0.4em;background-color: white;}#sk-container-id-1 div.sk-label label {font-family: monospace;font-weight: bold;display: inline-block;line-height: 1.2em;}#sk-container-id-1 div.sk-label-container {text-align: center;}#sk-container-id-1 div.sk-container {/* jupyter's `normalize.less` sets `[hidden] { display: none; }` but bootstrap.min.css set `[hidden] { display: none !important; }` so we also need the `!important` here to be able to override the default hidden behavior on the sphinx rendered scikit-learn.org. See: https://github.com/scikit-learn/scikit-learn/issues/21755 */display: inline-block !important;position: relative;}#sk-container-id-1 div.sk-text-repr-fallback {display: none;}</style><div id=\"sk-container-id-1\" class=\"sk-top-container\"><div class=\"sk-text-repr-fallback\"><pre>AgglomerativeClustering(n_clusters=4)</pre><b>In a Jupyter environment, please rerun this cell to show the HTML representation or trust the notebook. <br />On GitHub, the HTML representation is unable to render, please try loading this page with nbviewer.org.</b></div><div class=\"sk-container\" hidden><div class=\"sk-item\"><div class=\"sk-estimator sk-toggleable\"><input class=\"sk-toggleable__control sk-hidden--visually\" id=\"sk-estimator-id-1\" type=\"checkbox\" checked><label for=\"sk-estimator-id-1\" class=\"sk-toggleable__label sk-toggleable__label-arrow\">AgglomerativeClustering</label><div class=\"sk-toggleable__content\"><pre>AgglomerativeClustering(n_clusters=4)</pre></div></div></div></div></div>"
      ],
      "text/plain": [
       "AgglomerativeClustering(n_clusters=4)"
      ]
     },
     "execution_count": 17,
     "metadata": {},
     "output_type": "execute_result"
    }
   ],
   "source": [
    "agglo_clustering = AgglomerativeClustering(n_clusters = 4, affinity = \"euclidean\", linkage = \"ward\")\n",
    "agglo_clustering.fit(X)"
   ]
  },
  {
   "cell_type": "code",
   "execution_count": 18,
   "metadata": {},
   "outputs": [
    {
     "data": {
      "text/plain": [
       "array([0, 3, 2, 3, 0, 3, 2, 3, 2, 3, 2, 3, 2, 3, 2, 3, 0, 0, 0, 3, 0, 3,\n",
       "       2, 3, 2, 3, 0, 1, 0, 3, 2, 3, 2, 3, 2, 3, 2, 3, 2, 3, 1, 3, 0, 1,\n",
       "       0, 0, 1, 0, 0, 0, 1, 1, 0, 1, 1, 1, 1, 1, 0, 1, 1, 0, 1, 1, 1, 0,\n",
       "       1, 1, 0, 0, 1, 1, 1, 1, 1, 0, 1, 1, 0, 1, 1, 1, 1, 1, 0, 1, 1, 0,\n",
       "       1, 1, 1, 0, 1, 0, 0, 0, 1, 0, 1, 0, 0, 1, 1, 0, 1, 0, 1, 1, 1, 1,\n",
       "       1, 0, 0, 0, 0, 0, 1, 1, 1, 1, 0, 0, 1, 3, 0, 3, 0, 3, 2, 3, 2, 3,\n",
       "       0, 3, 2, 3, 2, 3, 2, 3, 2, 3, 0, 3, 2, 3, 0, 3, 2, 3, 2, 3, 2, 3,\n",
       "       2, 3, 2, 3, 2, 3, 1, 3, 2, 3, 0, 3, 2, 3, 2, 1, 2, 3, 2, 3, 2, 3,\n",
       "       2, 3, 2, 3, 0, 3, 2, 3, 0, 3, 0, 3, 2, 3, 2, 3, 2, 3, 2, 3, 0, 3,\n",
       "       2, 3], dtype=int64)"
      ]
     },
     "execution_count": 18,
     "metadata": {},
     "output_type": "execute_result"
    }
   ],
   "source": [
    "labels = agglo_clustering.labels_\n",
    "labels"
   ]
  },
  {
   "cell_type": "code",
   "execution_count": 19,
   "metadata": {},
   "outputs": [
    {
     "data": {
      "image/png": "[encoded data removed]",
      "text/plain": [
       "<Figure size 648x504 with 1 Axes>"
      ]
     },
     "metadata": {
      "needs_background": "light"
     },
     "output_type": "display_data"
    }
   ],
   "source": [
    "plt.figure(figsize = (9,7))\n",
    "plt.scatter(X.values[labels == 0, 0], X.values[labels == 0, 1], s = 50, c = 'red', label = 'Not old Average Spenders')\n",
    "plt.scatter(X.values[labels == 1, 0], X.values[labels == 1, 1], s = 50, c = 'blue', label = 'Not Young Average Spenders')\n",
    "plt.scatter(X.values[labels == 2, 0], X.values[labels == 2, 1], s = 50, c = 'green', label = 'Low Spenders')\n",
    "plt.scatter(X.values[labels == 3, 0], X.values[labels == 3, 1], s = 50, c = 'maroon', label = 'Young High Spenders')\n",
    "plt.title('Clusters of customers')\n",
    "plt.xlabel('Age')\n",
    "plt.ylabel('Spending Score (1-100)')\n",
    "plt.legend()\n",
    "plt.show()"
   ]
  },
  {
   "cell_type": "code",
   "execution_count": 20,
   "metadata": {},
   "outputs": [],
   "source": [
    "from scipy.spatial import distance_matrix "
   ]
  },
  {
   "cell_type": "code",
   "execution_count": 21,
   "metadata": {},
   "outputs": [
    {
     "data": {
      "text/plain": [
       "array([[ 0.        , 42.04759208, 33.01514804, ..., 37.33630941,\n",
       "        24.69817807, 45.35416188],\n",
       "       [42.04759208,  0.        , 75.00666637, ..., 13.03840481,\n",
       "        63.95310782,  9.21954446],\n",
       "       [33.01514804, 75.00666637,  0.        , ..., 69.05070601,\n",
       "        16.97056275, 77.64663547],\n",
       "       ...,\n",
       "       [37.33630941, 13.03840481, 69.05070601, ...,  0.        ,\n",
       "        56.        ,  9.21954446],\n",
       "       [24.69817807, 63.95310782, 16.97056275, ..., 56.        ,\n",
       "         0.        , 65.03076195],\n",
       "       [45.35416188,  9.21954446, 77.64663547, ...,  9.21954446,\n",
       "        65.03076195,  0.        ]])"
      ]
     },
     "execution_count": 21,
     "metadata": {},
     "output_type": "execute_result"
    }
   ],
   "source": [
    "dist = distance_matrix(X, X)\n",
    "dist"
   ]
  }
 ],
 "metadata": {
  "kernelspec": {
   "display_name": "Python 3 (ipykernel)",
   "language": "python",
   "name": "python3"
  },
  "language_info": {
   "codemirror_mode": {
    "name": "ipython",
    "version": 3
   },
   "file_extension": ".py",
   "mimetype": "text/x-python",
   "name": "python",
   "nbconvert_exporter": "python",
   "pygments_lexer": "ipython3",
   "version": "3.9.12"
  }
 },
 "nbformat": 4,
 "nbformat_minor": 2
}
